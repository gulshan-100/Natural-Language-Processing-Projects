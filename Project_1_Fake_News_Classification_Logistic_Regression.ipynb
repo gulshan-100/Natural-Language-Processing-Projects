{
  "nbformat": 4,
  "nbformat_minor": 0,
  "metadata": {
    "colab": {
      "provenance": []
    },
    "kernelspec": {
      "name": "python3",
      "display_name": "Python 3"
    },
    "language_info": {
      "name": "python"
    }
  },
  "cells": [
    {
      "cell_type": "markdown",
      "source": [
        "Import the Libraries"
      ],
      "metadata": {
        "id": "c--jSxd35vIc"
      }
    },
    {
      "cell_type": "code",
      "execution_count": 27,
      "metadata": {
        "id": "Bl92_gih40UQ"
      },
      "outputs": [],
      "source": [
        "import numpy as np\n",
        "import pandas as pd\n",
        "import re\n",
        "from nltk.corpus import stopwords\n",
        "from nltk.stem.porter import PorterStemmer\n",
        "from sklearn.feature_extraction.text import TfidfVectorizer\n",
        "from sklearn.model_selection import train_test_split\n",
        "from sklearn.linear_model import LogisticRegression\n",
        "from sklearn.metrics import accuracy_score"
      ]
    },
    {
      "cell_type": "code",
      "source": [
        "import nltk\n",
        "nltk.download('stopwords')"
      ],
      "metadata": {
        "id": "GZIN2Nvc6e8O",
        "colab": {
          "base_uri": "https://localhost:8080/"
        },
        "outputId": "66d0bbbb-8eb7-4ae0-9d1c-ecb63a99b152"
      },
      "execution_count": 28,
      "outputs": [
        {
          "output_type": "stream",
          "name": "stderr",
          "text": [
            "[nltk_data] Downloading package stopwords to /root/nltk_data...\n",
            "[nltk_data]   Package stopwords is already up-to-date!\n"
          ]
        },
        {
          "output_type": "execute_result",
          "data": {
            "text/plain": [
              "True"
            ]
          },
          "metadata": {},
          "execution_count": 28
        }
      ]
    },
    {
      "cell_type": "code",
      "source": [
        "print(stopwords.words('english'))"
      ],
      "metadata": {
        "id": "0IPHhXCJ7Kqu",
        "colab": {
          "base_uri": "https://localhost:8080/"
        },
        "outputId": "afe9ee9e-1f85-4edc-b918-1efeb4041b07"
      },
      "execution_count": 29,
      "outputs": [
        {
          "output_type": "stream",
          "name": "stdout",
          "text": [
            "['i', 'me', 'my', 'myself', 'we', 'our', 'ours', 'ourselves', 'you', \"you're\", \"you've\", \"you'll\", \"you'd\", 'your', 'yours', 'yourself', 'yourselves', 'he', 'him', 'his', 'himself', 'she', \"she's\", 'her', 'hers', 'herself', 'it', \"it's\", 'its', 'itself', 'they', 'them', 'their', 'theirs', 'themselves', 'what', 'which', 'who', 'whom', 'this', 'that', \"that'll\", 'these', 'those', 'am', 'is', 'are', 'was', 'were', 'be', 'been', 'being', 'have', 'has', 'had', 'having', 'do', 'does', 'did', 'doing', 'a', 'an', 'the', 'and', 'but', 'if', 'or', 'because', 'as', 'until', 'while', 'of', 'at', 'by', 'for', 'with', 'about', 'against', 'between', 'into', 'through', 'during', 'before', 'after', 'above', 'below', 'to', 'from', 'up', 'down', 'in', 'out', 'on', 'off', 'over', 'under', 'again', 'further', 'then', 'once', 'here', 'there', 'when', 'where', 'why', 'how', 'all', 'any', 'both', 'each', 'few', 'more', 'most', 'other', 'some', 'such', 'no', 'nor', 'not', 'only', 'own', 'same', 'so', 'than', 'too', 'very', 's', 't', 'can', 'will', 'just', 'don', \"don't\", 'should', \"should've\", 'now', 'd', 'll', 'm', 'o', 're', 've', 'y', 'ain', 'aren', \"aren't\", 'couldn', \"couldn't\", 'didn', \"didn't\", 'doesn', \"doesn't\", 'hadn', \"hadn't\", 'hasn', \"hasn't\", 'haven', \"haven't\", 'isn', \"isn't\", 'ma', 'mightn', \"mightn't\", 'mustn', \"mustn't\", 'needn', \"needn't\", 'shan', \"shan't\", 'shouldn', \"shouldn't\", 'wasn', \"wasn't\", 'weren', \"weren't\", 'won', \"won't\", 'wouldn', \"wouldn't\"]\n"
          ]
        }
      ]
    },
    {
      "cell_type": "markdown",
      "source": [
        "Dataset : Kaggle"
      ],
      "metadata": {
        "id": "c7OOE0kWNE8U"
      }
    },
    {
      "cell_type": "markdown",
      "source": [
        "Loading the Dataset"
      ],
      "metadata": {
        "id": "AeyvfyLm9VdK"
      }
    },
    {
      "cell_type": "code",
      "source": [
        "news_dataset = pd.read_csv('/content/data.csv')"
      ],
      "metadata": {
        "id": "yX3n3uEr7Sc4"
      },
      "execution_count": 30,
      "outputs": []
    },
    {
      "cell_type": "code",
      "source": [
        "news_dataset.shape"
      ],
      "metadata": {
        "colab": {
          "base_uri": "https://localhost:8080/"
        },
        "id": "GAGeRDSH9dzr",
        "outputId": "53fbf65c-73a7-4a4d-c813-06bc682b60a0"
      },
      "execution_count": 31,
      "outputs": [
        {
          "output_type": "execute_result",
          "data": {
            "text/plain": [
              "(4009, 4)"
            ]
          },
          "metadata": {},
          "execution_count": 31
        }
      ]
    },
    {
      "cell_type": "code",
      "source": [
        "news_dataset.head()"
      ],
      "metadata": {
        "colab": {
          "base_uri": "https://localhost:8080/",
          "height": 206
        },
        "id": "OBCjYu2c9mD7",
        "outputId": "6a406478-c1c7-46db-fd20-e05f790cf27e"
      },
      "execution_count": 32,
      "outputs": [
        {
          "output_type": "execute_result",
          "data": {
            "text/plain": [
              "                                                URLs  \\\n",
              "0  http://www.bbc.com/news/world-us-canada-414191...   \n",
              "1  https://www.reuters.com/article/us-filmfestiva...   \n",
              "2  https://www.nytimes.com/2017/10/09/us/politics...   \n",
              "3  https://www.reuters.com/article/us-mexico-oil-...   \n",
              "4  http://www.cnn.com/videos/cnnmoney/2017/10/08/...   \n",
              "\n",
              "                                            Headline  \\\n",
              "0         Four ways Bob Corker skewered Donald Trump   \n",
              "1  Linklater's war veteran comedy speaks to moder...   \n",
              "2  Trump’s Fight With Corker Jeopardizes His Legi...   \n",
              "3  Egypt's Cheiron wins tie-up with Pemex for Mex...   \n",
              "4        Jason Aldean opens 'SNL' with Vegas tribute   \n",
              "\n",
              "                                                Body  Label  \n",
              "0  Image copyright Getty Images\\nOn Sunday mornin...      1  \n",
              "1  LONDON (Reuters) - “Last Flag Flying”, a comed...      1  \n",
              "2  The feud broke into public view last week when...      1  \n",
              "3  MEXICO CITY (Reuters) - Egypt’s Cheiron Holdin...      1  \n",
              "4  Country singer Jason Aldean, who was performin...      1  "
            ],
            "text/html": [
              "\n",
              "  <div id=\"df-31b7e415-cbc7-477b-83a1-a93a7280c3c9\" class=\"colab-df-container\">\n",
              "    <div>\n",
              "<style scoped>\n",
              "    .dataframe tbody tr th:only-of-type {\n",
              "        vertical-align: middle;\n",
              "    }\n",
              "\n",
              "    .dataframe tbody tr th {\n",
              "        vertical-align: top;\n",
              "    }\n",
              "\n",
              "    .dataframe thead th {\n",
              "        text-align: right;\n",
              "    }\n",
              "</style>\n",
              "<table border=\"1\" class=\"dataframe\">\n",
              "  <thead>\n",
              "    <tr style=\"text-align: right;\">\n",
              "      <th></th>\n",
              "      <th>URLs</th>\n",
              "      <th>Headline</th>\n",
              "      <th>Body</th>\n",
              "      <th>Label</th>\n",
              "    </tr>\n",
              "  </thead>\n",
              "  <tbody>\n",
              "    <tr>\n",
              "      <th>0</th>\n",
              "      <td>http://www.bbc.com/news/world-us-canada-414191...</td>\n",
              "      <td>Four ways Bob Corker skewered Donald Trump</td>\n",
              "      <td>Image copyright Getty Images\\nOn Sunday mornin...</td>\n",
              "      <td>1</td>\n",
              "    </tr>\n",
              "    <tr>\n",
              "      <th>1</th>\n",
              "      <td>https://www.reuters.com/article/us-filmfestiva...</td>\n",
              "      <td>Linklater's war veteran comedy speaks to moder...</td>\n",
              "      <td>LONDON (Reuters) - “Last Flag Flying”, a comed...</td>\n",
              "      <td>1</td>\n",
              "    </tr>\n",
              "    <tr>\n",
              "      <th>2</th>\n",
              "      <td>https://www.nytimes.com/2017/10/09/us/politics...</td>\n",
              "      <td>Trump’s Fight With Corker Jeopardizes His Legi...</td>\n",
              "      <td>The feud broke into public view last week when...</td>\n",
              "      <td>1</td>\n",
              "    </tr>\n",
              "    <tr>\n",
              "      <th>3</th>\n",
              "      <td>https://www.reuters.com/article/us-mexico-oil-...</td>\n",
              "      <td>Egypt's Cheiron wins tie-up with Pemex for Mex...</td>\n",
              "      <td>MEXICO CITY (Reuters) - Egypt’s Cheiron Holdin...</td>\n",
              "      <td>1</td>\n",
              "    </tr>\n",
              "    <tr>\n",
              "      <th>4</th>\n",
              "      <td>http://www.cnn.com/videos/cnnmoney/2017/10/08/...</td>\n",
              "      <td>Jason Aldean opens 'SNL' with Vegas tribute</td>\n",
              "      <td>Country singer Jason Aldean, who was performin...</td>\n",
              "      <td>1</td>\n",
              "    </tr>\n",
              "  </tbody>\n",
              "</table>\n",
              "</div>\n",
              "    <div class=\"colab-df-buttons\">\n",
              "\n",
              "  <div class=\"colab-df-container\">\n",
              "    <button class=\"colab-df-convert\" onclick=\"convertToInteractive('df-31b7e415-cbc7-477b-83a1-a93a7280c3c9')\"\n",
              "            title=\"Convert this dataframe to an interactive table.\"\n",
              "            style=\"display:none;\">\n",
              "\n",
              "  <svg xmlns=\"http://www.w3.org/2000/svg\" height=\"24px\" viewBox=\"0 -960 960 960\">\n",
              "    <path d=\"M120-120v-720h720v720H120Zm60-500h600v-160H180v160Zm220 220h160v-160H400v160Zm0 220h160v-160H400v160ZM180-400h160v-160H180v160Zm440 0h160v-160H620v160ZM180-180h160v-160H180v160Zm440 0h160v-160H620v160Z\"/>\n",
              "  </svg>\n",
              "    </button>\n",
              "\n",
              "  <style>\n",
              "    .colab-df-container {\n",
              "      display:flex;\n",
              "      gap: 12px;\n",
              "    }\n",
              "\n",
              "    .colab-df-convert {\n",
              "      background-color: #E8F0FE;\n",
              "      border: none;\n",
              "      border-radius: 50%;\n",
              "      cursor: pointer;\n",
              "      display: none;\n",
              "      fill: #1967D2;\n",
              "      height: 32px;\n",
              "      padding: 0 0 0 0;\n",
              "      width: 32px;\n",
              "    }\n",
              "\n",
              "    .colab-df-convert:hover {\n",
              "      background-color: #E2EBFA;\n",
              "      box-shadow: 0px 1px 2px rgba(60, 64, 67, 0.3), 0px 1px 3px 1px rgba(60, 64, 67, 0.15);\n",
              "      fill: #174EA6;\n",
              "    }\n",
              "\n",
              "    .colab-df-buttons div {\n",
              "      margin-bottom: 4px;\n",
              "    }\n",
              "\n",
              "    [theme=dark] .colab-df-convert {\n",
              "      background-color: #3B4455;\n",
              "      fill: #D2E3FC;\n",
              "    }\n",
              "\n",
              "    [theme=dark] .colab-df-convert:hover {\n",
              "      background-color: #434B5C;\n",
              "      box-shadow: 0px 1px 3px 1px rgba(0, 0, 0, 0.15);\n",
              "      filter: drop-shadow(0px 1px 2px rgba(0, 0, 0, 0.3));\n",
              "      fill: #FFFFFF;\n",
              "    }\n",
              "  </style>\n",
              "\n",
              "    <script>\n",
              "      const buttonEl =\n",
              "        document.querySelector('#df-31b7e415-cbc7-477b-83a1-a93a7280c3c9 button.colab-df-convert');\n",
              "      buttonEl.style.display =\n",
              "        google.colab.kernel.accessAllowed ? 'block' : 'none';\n",
              "\n",
              "      async function convertToInteractive(key) {\n",
              "        const element = document.querySelector('#df-31b7e415-cbc7-477b-83a1-a93a7280c3c9');\n",
              "        const dataTable =\n",
              "          await google.colab.kernel.invokeFunction('convertToInteractive',\n",
              "                                                    [key], {});\n",
              "        if (!dataTable) return;\n",
              "\n",
              "        const docLinkHtml = 'Like what you see? Visit the ' +\n",
              "          '<a target=\"_blank\" href=https://colab.research.google.com/notebooks/data_table.ipynb>data table notebook</a>'\n",
              "          + ' to learn more about interactive tables.';\n",
              "        element.innerHTML = '';\n",
              "        dataTable['output_type'] = 'display_data';\n",
              "        await google.colab.output.renderOutput(dataTable, element);\n",
              "        const docLink = document.createElement('div');\n",
              "        docLink.innerHTML = docLinkHtml;\n",
              "        element.appendChild(docLink);\n",
              "      }\n",
              "    </script>\n",
              "  </div>\n",
              "\n",
              "\n",
              "<div id=\"df-b01fb6fc-0f67-4a86-8968-b498809db2cb\">\n",
              "  <button class=\"colab-df-quickchart\" onclick=\"quickchart('df-b01fb6fc-0f67-4a86-8968-b498809db2cb')\"\n",
              "            title=\"Suggest charts\"\n",
              "            style=\"display:none;\">\n",
              "\n",
              "<svg xmlns=\"http://www.w3.org/2000/svg\" height=\"24px\"viewBox=\"0 0 24 24\"\n",
              "     width=\"24px\">\n",
              "    <g>\n",
              "        <path d=\"M19 3H5c-1.1 0-2 .9-2 2v14c0 1.1.9 2 2 2h14c1.1 0 2-.9 2-2V5c0-1.1-.9-2-2-2zM9 17H7v-7h2v7zm4 0h-2V7h2v10zm4 0h-2v-4h2v4z\"/>\n",
              "    </g>\n",
              "</svg>\n",
              "  </button>\n",
              "\n",
              "<style>\n",
              "  .colab-df-quickchart {\n",
              "      --bg-color: #E8F0FE;\n",
              "      --fill-color: #1967D2;\n",
              "      --hover-bg-color: #E2EBFA;\n",
              "      --hover-fill-color: #174EA6;\n",
              "      --disabled-fill-color: #AAA;\n",
              "      --disabled-bg-color: #DDD;\n",
              "  }\n",
              "\n",
              "  [theme=dark] .colab-df-quickchart {\n",
              "      --bg-color: #3B4455;\n",
              "      --fill-color: #D2E3FC;\n",
              "      --hover-bg-color: #434B5C;\n",
              "      --hover-fill-color: #FFFFFF;\n",
              "      --disabled-bg-color: #3B4455;\n",
              "      --disabled-fill-color: #666;\n",
              "  }\n",
              "\n",
              "  .colab-df-quickchart {\n",
              "    background-color: var(--bg-color);\n",
              "    border: none;\n",
              "    border-radius: 50%;\n",
              "    cursor: pointer;\n",
              "    display: none;\n",
              "    fill: var(--fill-color);\n",
              "    height: 32px;\n",
              "    padding: 0;\n",
              "    width: 32px;\n",
              "  }\n",
              "\n",
              "  .colab-df-quickchart:hover {\n",
              "    background-color: var(--hover-bg-color);\n",
              "    box-shadow: 0 1px 2px rgba(60, 64, 67, 0.3), 0 1px 3px 1px rgba(60, 64, 67, 0.15);\n",
              "    fill: var(--button-hover-fill-color);\n",
              "  }\n",
              "\n",
              "  .colab-df-quickchart-complete:disabled,\n",
              "  .colab-df-quickchart-complete:disabled:hover {\n",
              "    background-color: var(--disabled-bg-color);\n",
              "    fill: var(--disabled-fill-color);\n",
              "    box-shadow: none;\n",
              "  }\n",
              "\n",
              "  .colab-df-spinner {\n",
              "    border: 2px solid var(--fill-color);\n",
              "    border-color: transparent;\n",
              "    border-bottom-color: var(--fill-color);\n",
              "    animation:\n",
              "      spin 1s steps(1) infinite;\n",
              "  }\n",
              "\n",
              "  @keyframes spin {\n",
              "    0% {\n",
              "      border-color: transparent;\n",
              "      border-bottom-color: var(--fill-color);\n",
              "      border-left-color: var(--fill-color);\n",
              "    }\n",
              "    20% {\n",
              "      border-color: transparent;\n",
              "      border-left-color: var(--fill-color);\n",
              "      border-top-color: var(--fill-color);\n",
              "    }\n",
              "    30% {\n",
              "      border-color: transparent;\n",
              "      border-left-color: var(--fill-color);\n",
              "      border-top-color: var(--fill-color);\n",
              "      border-right-color: var(--fill-color);\n",
              "    }\n",
              "    40% {\n",
              "      border-color: transparent;\n",
              "      border-right-color: var(--fill-color);\n",
              "      border-top-color: var(--fill-color);\n",
              "    }\n",
              "    60% {\n",
              "      border-color: transparent;\n",
              "      border-right-color: var(--fill-color);\n",
              "    }\n",
              "    80% {\n",
              "      border-color: transparent;\n",
              "      border-right-color: var(--fill-color);\n",
              "      border-bottom-color: var(--fill-color);\n",
              "    }\n",
              "    90% {\n",
              "      border-color: transparent;\n",
              "      border-bottom-color: var(--fill-color);\n",
              "    }\n",
              "  }\n",
              "</style>\n",
              "\n",
              "  <script>\n",
              "    async function quickchart(key) {\n",
              "      const quickchartButtonEl =\n",
              "        document.querySelector('#' + key + ' button');\n",
              "      quickchartButtonEl.disabled = true;  // To prevent multiple clicks.\n",
              "      quickchartButtonEl.classList.add('colab-df-spinner');\n",
              "      try {\n",
              "        const charts = await google.colab.kernel.invokeFunction(\n",
              "            'suggestCharts', [key], {});\n",
              "      } catch (error) {\n",
              "        console.error('Error during call to suggestCharts:', error);\n",
              "      }\n",
              "      quickchartButtonEl.classList.remove('colab-df-spinner');\n",
              "      quickchartButtonEl.classList.add('colab-df-quickchart-complete');\n",
              "    }\n",
              "    (() => {\n",
              "      let quickchartButtonEl =\n",
              "        document.querySelector('#df-b01fb6fc-0f67-4a86-8968-b498809db2cb button');\n",
              "      quickchartButtonEl.style.display =\n",
              "        google.colab.kernel.accessAllowed ? 'block' : 'none';\n",
              "    })();\n",
              "  </script>\n",
              "</div>\n",
              "\n",
              "    </div>\n",
              "  </div>\n"
            ],
            "application/vnd.google.colaboratory.intrinsic+json": {
              "type": "dataframe",
              "variable_name": "news_dataset",
              "summary": "{\n  \"name\": \"news_dataset\",\n  \"rows\": 4009,\n  \"fields\": [\n    {\n      \"column\": \"URLs\",\n      \"properties\": {\n        \"dtype\": \"string\",\n        \"num_unique_values\": 3352,\n        \"samples\": [\n          \"http://beforeitsnews.com/sports/2017/09/jetnation-tuesday-tidbits-jets-maye-have-something-with-safety-tandem-2701190.html\\n\\n\",\n          \"http://www.disclose.tv/news/this_marine_stole_a_truck_and_saved_dozens_of_vegas_shooting_victims_now_the_car_owner_sent_him_this_message/140445\",\n          \"http://beforeitsnews.com/entertainment/2017/09/ashley-j-announces-her-new-empowering-and-energetic-pop-single-unbreakable-releasing-10617-2670588.html\\r\\n\"\n        ],\n        \"semantic_type\": \"\",\n        \"description\": \"\"\n      }\n    },\n    {\n      \"column\": \"Headline\",\n      \"properties\": {\n        \"dtype\": \"string\",\n        \"num_unique_values\": 2831,\n        \"samples\": [\n          \"How the Guptas' brand turned toxic in South Africa\",\n          \"Pols And Celebs Now Blame Trump For Puerto Rico And Las Vegas\",\n          \"After 'bloody mess' jab, Macron eyes training, job insurance reform\"\n        ],\n        \"semantic_type\": \"\",\n        \"description\": \"\"\n      }\n    },\n    {\n      \"column\": \"Body\",\n      \"properties\": {\n        \"dtype\": \"string\",\n        \"num_unique_values\": 2863,\n        \"samples\": [\n          \"Ahead of Foster the People's show at the \\\"All Things Go\\\" festival in Washington, lead singer Mark Foster tells #GetPolitical how the Vegas shooting changed him.\",\n          \"This was a break from the usual \\u2014 for rock acts in general and this one in particular. It was \\u201cweird\\u201d and conceptual in all the ways Mr. Petty\\u2019s music was vividly normal. They were casting themselves as survivors of some pre-video age. I don\\u2019t think I actually heard \\u201cYou Got Lucky\\u201d because I had seen it. And it looked stoned.\\nAdvertisement Continue reading the main story\\nIn the week or so since his death last Monday, Mr. Petty has been memorialized as carrying some kind of classic-rock baton, which came as a surprise to me since all my first encounters with him happened on MTV. That\\u2019s a rock-critic distinction. And it makes sense for the purists to lay their claim. Mr. Petty has never sounded out of place in a block crammed with, say, \\u201cStairway to Heaven,\\u201d \\u201cHotel California\\u201d and \\u201cLegs.\\u201d But Mr. Petty belonged as much to MTV, alongside Duran Duran and Cyndi Lauper, as he did to the old-guard rigidity of whatever is meant by \\u201cclassic rock.\\u201d\\nIt\\u2019s true, there was a classicism to his approach to rock, whether he was on his own, recording with the Heartbreakers or with the Traveling Wilburys, a sort of rock-historical Avengers. But his elasticity and economy (a Tom Petty song rarely made it past the four-minute mark) and the sweet spot it deeply satisfied over and over, were hallmarks of pop.\\nMr. Petty\\u2019s nuttiest contribution to the video era was \\u201cDon\\u2019t Come Around Here No More,\\u201d from 1985. It riffs on the Mad Hatter\\u2019s tea party from \\u201cAlice in Wonderland\\u201d with Mr. Petty as the Hatter. The props (edible teacups, mushroom tuffets) and costumes were surreally proportioned and druggie. Mr. Petty briefly either shrinks inside his outfit or his clothes turn enormous. But what\\u2019s freaky about the clip is what a creep he pretends to be, leaping from one end of the enormous dining table to where Alice sits at the other and appearing to chase her around the checkerboard set.\\nEventually, she\\u2019s trapped in the teacup and her body turns into a cake that the band and the Hatter all find good enough to eat. So they hack into her. In the final shot, the camera pans from a screaming Alice to a close-up of Mr. Petty gobbling her up. He wears the same bemused expression the entire time and, courtesy of his sunglasses, never lets you see his eyes. He was opium-den Willy Wonka. It was a look he\\u2019d often return to.\\nNewsletter Sign Up Continue reading the main story Sign Up for the Louder Newsletter Every week, stay on top of the latest in pop and jazz with reviews, interviews, podcasts and more from The New York Times music critics. Please verify you're not a robot by clicking the box. Invalid email address. Please re-enter. You must select a newsletter to subscribe to. Sign Up You agree to receive occasional updates and special offers for The New York Times's products and services. Thank you for subscribing. An error has occurred. Please try again later. View all New York Times newsletters.\\nIf \\u201cDon\\u2019t Come Around Here\\u201d is your second or third Tom Petty music-video experience, it may have been formative. Michael Jackson was a werewolf-zombie. Madonna rolled around in gondolas. Prince did splits. Tom Petty ate people. I always found that funny given how little his face appeared to do. You\\u2019d watch these videos and wonder how such a pleasingly distinctive sound could come out of a mouth that never seemed to open.\\nMr. Petty\\u2019s approach to being on MTV was not to take it more seriously than he had to. His sense of frivolity came with a coating of stranger-danger. \\u201cI Won\\u2019t Back Down\\u201d kicks off with him, still outfitted like the Mad Hatter, lifting the lid of a gift box. The camera peers inside, revealing Mr. Petty and a band playing the song on a stark, black set. Before the guitars start to cry and chug, there\\u2019s a natural studio silence that always terrified me. Who knows why? But some of it is the dark-magician he\\u2019d styled himself as.\\nThe hat and the shades seemed to keep him in disguise. It took a long time to remember that when his career in music videos started \\u2014 with \\u201cRefugee,\\u201d to pick one hypnotically shabby-looking performance \\u2014 he looked like the average girl\\u2019s prom date: cuter than you thought. By the time of \\u201cInto the Great Wide Open,\\u201d from 1991, Mr. Petty wore another ridiculous hat and wire-rimmed glasses. This time the Mad Hatter was an omniscient narrator of the song\\u2019s music-biz blues. It\\u2019s an imaginative, fitfully humorous literalizing of the song. Johnny Depp plays Eddie, a clich\\u00e9 rock star, and Faye Dunaway has a ball portraying his back-stabbed manager. (Mr. Petty himself takes on about four different parts.) The music-video veteran Julian Temple directed it, and he worked with a poignant tinge of bloat. Accordingly to Mr. Petty, in Peter Bogdanovich\\u2019s exhaustingly thorough documentary, \\u201cRunnin\\u2019 Down a Dream,\\u201d Mr. Temple originally shot a 17-minute version.\\nThe videos got at a kind of truth about Mr. Petty. Lots of his songs featured power contests between himself and unspecified forces, like record labels. Commands like \\u201cdon\\u2019t,\\u201d \\u201cwon\\u2019t,\\u201d \\u201cstop\\u201d and \\u201cquit\\u201d recur. Maybe some of the clips were a fantasy of a straightforward control he struggled for in his music. Of course, as a listener, you often heard struggle\\u2019s opposite. You felt the joy of the music\\u2019s thrum and jangle. The songs took three-chord structure and made little origami. In videos, he never seemed impressed.\\nAdvertisement Continue reading the main story\\nThat was the other thing about them. Watching them was an exercise in cognitive dissonance. For the dramatization of the ecstasy a listener feels hearing a Tom Petty song, you had to go to the movies. You had to see Tom Cruise, in Cameron Crowe\\u2019s \\u201cJerry Maguire,\\u201d searching a car radio for a song that matched his money-loving mood, settling on \\u201cFree Fallin.\\u2019\\u201d It\\u2019s one of the most casually human things Mr. Cruise has done in a movie. He practically hits the roof of his car by the time the chorus comes around.\\nJerry, of course, is hearing the bright side of a song whose sense of loneliness never occurs to Mr. Cruise. But the movie gets the irony that, really, Jerry is, Wile E. Coyote, out of road to run.\\nThen there\\u2019s Brooke Smith in Jonathan Demme\\u2019s \\u201cThe Silence of the Lambs,\\u201d rocking out to \\u201cAmerican Girl.\\u201d There\\u2019s only one way to experience this song, and Smith\\u2019s is it: pounding on the steering wheel. Mr. Petty really is one of those artists who makes you feel like you could drive a car forever. Smith\\u2019s character is about to be beaten unconscious, trapped in a van and made to live at the bottom of a dry well. But for a brief moment, she\\u2019s happy, feeling the opposite of what Mr. Petty\\u2019s song is actually about: letdowns.\\nThat, of course, was his cleverness as a writer. He wrote major-key bummers. A listener didn\\u2019t know what was hitting him until he knew. Obviously, Mr. Petty knew. The young me was never ready for those old Petty videos. To a kid, that Wile E. Coyote feeling describes a cartoon. For everybody else, it\\u2019s just life.\",\n          \"European officials are increasingly trying to counter that narrative.\\nOn Wednesday, Margrethe Vestager, the European Union\\u2019s competition commissioner, ordered Luxembourg to collect around 250 million euros, or about $293 million, in unpaid taxes from Amazon. The ruling was tied to an agreement between the country and the company that the European Commission, the bloc\\u2019s executive arm, said dated to 2003.\\nThe order resembles a similar move the commission made last year, when it directed Ireland to reclaim around $15.2 billion from Apple.\\nIreland fears that such a decision could make it a less attractive place for multinational companies. In a sign of the disquiet in Dublin about that order, the Irish government failed to meet a January deadline to collect the money. It has appealed the ruling.\\nThat earned Ireland a forceful rebuke from Ms. Vestager.\\nA year later, \\u201cIreland has not recovered any money, not even in part,\\u201d she said, warning the country to accelerate its efforts to avoid \\u201cmore conflictual waters,\\u201d a reference to the prospects for a lengthy court battle.\\nAlthough litigation to force Ireland to recoup the taxes could drag on for years, the commission has successfully sued countries in the past and punished them with large fines for failing to recover money from companies that received illegal state aid.\\nAt the time of the ruling, Europe\\u2019s competition watchdogs said that Apple\\u2019s arrangements with Dublin were illegal and had ensured the iPhone maker paid virtually nothing on its European business in some years. Brussels argued that the deals allowed Apple to funnel profit from two Irish subsidiaries to an office in which it had \\u201cno employees, no premises, no real activities.\\u201d\\nThe Irish Department of Finance said that it \\u201chas never accepted the commission\\u2019s analysis\\u201d in the Apple case and that it was taken aback by Ms. Vestager\\u2019s decision to take the country to court. The department said it had \\u201cmade significant progress on this complex issue\\u201d and accused the European authorities of taking a \\u201cwholly unnecessary step.\\u201d\\nAdvertisement Continue reading the main story\\nApple did not immediately comment on the latest move, but has criticized the ruling in the past. The original decision has also drawn the ire of the United States Treasury Department.\\nNewsletter Sign Up Continue reading the main story Please verify you're not a robot by clicking the box. Invalid email address. Please re-enter. You must select a newsletter to subscribe to. Sign Up You agree to receive occasional updates and special offers for The New York Times's products and services. Thank you for subscribing. An error has occurred. Please try again later. View all New York Times newsletters.\\nIn the case of Amazon, the commission said Wednesday that Luxembourg had reduced its tax bill for more than eight years, from 2006 to 2014, and had conferred on the company a selective advantage. The arrangement essentially capped the amount of tax that the retailer paid, and relied on a method known as transfer pricing.\\nTypically, transfer pricing has been used by companies to assign revenues and profits to different business units depending on their location, role in the overall company and assets. But that system is harder to police with technology companies because many of their biggest assets, like intellectual property, are intangible. The European Commission said that Amazon had abused this system by sending most of its European revenue to a Luxembourg subsidiary that was not liable to pay corporate tax, helping the company cut its overall bill.\\nMs. Vestager said the arrangement had \\u201cno valid economic justification\\u201d and that the company had been able to \\u201cavoid taxation on almost three quarters of the profits it made from all Amazon sales in the E.U.\\u201d\\nAmazon and Luxembourg have denied the charges.\\n\\u201cWe believe that Amazon did not receive any special treatment from Luxembourg,\\u201d the company said in a statement on Wednesday, adding that it \\u201cpaid tax in full accordance with both Luxembourg and international tax law.\\u201d\\nAmazon said it would study the commission\\u2019s ruling and was considering whether to appeal.\\nIn a statement, Luxembourg\\u2019s finance ministry also contested Ms. Vestager\\u2019s ruling. \\u201cAs Amazon has been taxed in accordance with the tax rules applicable at the relevant time, Luxembourg considers that the company has not been granted incompatible state aid,\\u201d it said.\\nIt is not illegal in the European Union for member states to attempt to lure businesses by lowering corporate tax rates. But, as with Amazon\\u2019s agreement with Luxembourg, offering special deals to select companies that are not made available to rivals can amount to \\u201cillegal state aid.\\u201d\\nThe investigations are among several in which commission officials have looked into the affairs of Silicon Valley companies. Regulators in Brussels are challenging Google and Qualcomm over alleged antitrust violations, and officials in various countries have investigated Facebook over its handling of customers\\u2019 data.\\nMs. Vestager has made taxes a priority of her term as Europe\\u2019s competition commissioner. In that time, she has penalized Starbucks in the Netherlands and Anheuser-Busch InBev in Belgium. But Luxembourg has been a particular target: In 2015, she told the country to claw back about \\u20ac30 million from a Fiat Chrysler unit, while a case considering Luxembourg\\u2019s treatment of McDonald\\u2019s is also continuing.\\nAdvertisement Continue reading the main story\\n\\u201cI don\\u2019t think that we\\u2019re done,\\u201d Ms. Vestager said on Wednesday, adding that new laws were also necessary. \\u201cThe main part of the solution is of course that we have legislation that gives you a transparent tax landscape and enables national tax authorities to do their job.\\u201d\\nA broader overhaul may be afoot. The European Commission published proposals last month under which internet companies would be taxed in the countries where they generated revenue. Such a shift would mean the companies could not move their profits to jurisdictions with lower taxes.\\nA push in that direction could, however, prove complicated and carries several risks, said Clemens Fuest, the director of the Ifo Institute for Economic Research, a prominent think tank in Germany. In particular, European governments still might devise a host of new incentives to lure investment, while legislative changes at the European level could prompt retaliation by major trading partners.\\n\\u201cThere are real dangers if Brussels keeps acting unilaterally,\\u201d Mr. Fuest said.\\nThe European Union stepped up efforts to curb tax avoidance by companies and by individuals after the financial crisis, which forced many of the bloc\\u2019s member states to cut public services and raise tax rates. But opponents of the austerity programs argued that big corporations had not faced the same pressures, partly because they have long been able to shift their profits to low-tax countries.\"\n        ],\n        \"semantic_type\": \"\",\n        \"description\": \"\"\n      }\n    },\n    {\n      \"column\": \"Label\",\n      \"properties\": {\n        \"dtype\": \"number\",\n        \"std\": 0,\n        \"min\": 0,\n        \"max\": 1,\n        \"num_unique_values\": 2,\n        \"samples\": [\n          0,\n          1\n        ],\n        \"semantic_type\": \"\",\n        \"description\": \"\"\n      }\n    }\n  ]\n}"
            }
          },
          "metadata": {},
          "execution_count": 32
        }
      ]
    },
    {
      "cell_type": "code",
      "source": [
        "#Check the null values\n",
        "news_dataset.isnull().sum()"
      ],
      "metadata": {
        "colab": {
          "base_uri": "https://localhost:8080/",
          "height": 210
        },
        "id": "_8InqOYT9pBi",
        "outputId": "cf17a1ef-d619-4b8b-a568-920e38e22c10"
      },
      "execution_count": 33,
      "outputs": [
        {
          "output_type": "execute_result",
          "data": {
            "text/plain": [
              "URLs         0\n",
              "Headline     0\n",
              "Body        21\n",
              "Label        0\n",
              "dtype: int64"
            ],
            "text/html": [
              "<div>\n",
              "<style scoped>\n",
              "    .dataframe tbody tr th:only-of-type {\n",
              "        vertical-align: middle;\n",
              "    }\n",
              "\n",
              "    .dataframe tbody tr th {\n",
              "        vertical-align: top;\n",
              "    }\n",
              "\n",
              "    .dataframe thead th {\n",
              "        text-align: right;\n",
              "    }\n",
              "</style>\n",
              "<table border=\"1\" class=\"dataframe\">\n",
              "  <thead>\n",
              "    <tr style=\"text-align: right;\">\n",
              "      <th></th>\n",
              "      <th>0</th>\n",
              "    </tr>\n",
              "  </thead>\n",
              "  <tbody>\n",
              "    <tr>\n",
              "      <th>URLs</th>\n",
              "      <td>0</td>\n",
              "    </tr>\n",
              "    <tr>\n",
              "      <th>Headline</th>\n",
              "      <td>0</td>\n",
              "    </tr>\n",
              "    <tr>\n",
              "      <th>Body</th>\n",
              "      <td>21</td>\n",
              "    </tr>\n",
              "    <tr>\n",
              "      <th>Label</th>\n",
              "      <td>0</td>\n",
              "    </tr>\n",
              "  </tbody>\n",
              "</table>\n",
              "</div><br><label><b>dtype:</b> int64</label>"
            ]
          },
          "metadata": {},
          "execution_count": 33
        }
      ]
    },
    {
      "cell_type": "code",
      "source": [
        "# replacing the null values with empty string\n",
        "news_dataset = news_dataset.fillna('')"
      ],
      "metadata": {
        "id": "-A--1IPYALOU"
      },
      "execution_count": 34,
      "outputs": []
    },
    {
      "cell_type": "code",
      "source": [
        "news_dataset.isnull().sum()"
      ],
      "metadata": {
        "colab": {
          "base_uri": "https://localhost:8080/",
          "height": 210
        },
        "id": "JvUvPSKlAdMO",
        "outputId": "0cf44e6c-f2e7-4f65-ca51-a52f0f5aa87d"
      },
      "execution_count": 35,
      "outputs": [
        {
          "output_type": "execute_result",
          "data": {
            "text/plain": [
              "URLs        0\n",
              "Headline    0\n",
              "Body        0\n",
              "Label       0\n",
              "dtype: int64"
            ],
            "text/html": [
              "<div>\n",
              "<style scoped>\n",
              "    .dataframe tbody tr th:only-of-type {\n",
              "        vertical-align: middle;\n",
              "    }\n",
              "\n",
              "    .dataframe tbody tr th {\n",
              "        vertical-align: top;\n",
              "    }\n",
              "\n",
              "    .dataframe thead th {\n",
              "        text-align: right;\n",
              "    }\n",
              "</style>\n",
              "<table border=\"1\" class=\"dataframe\">\n",
              "  <thead>\n",
              "    <tr style=\"text-align: right;\">\n",
              "      <th></th>\n",
              "      <th>0</th>\n",
              "    </tr>\n",
              "  </thead>\n",
              "  <tbody>\n",
              "    <tr>\n",
              "      <th>URLs</th>\n",
              "      <td>0</td>\n",
              "    </tr>\n",
              "    <tr>\n",
              "      <th>Headline</th>\n",
              "      <td>0</td>\n",
              "    </tr>\n",
              "    <tr>\n",
              "      <th>Body</th>\n",
              "      <td>0</td>\n",
              "    </tr>\n",
              "    <tr>\n",
              "      <th>Label</th>\n",
              "      <td>0</td>\n",
              "    </tr>\n",
              "  </tbody>\n",
              "</table>\n",
              "</div><br><label><b>dtype:</b> int64</label>"
            ]
          },
          "metadata": {},
          "execution_count": 35
        }
      ]
    },
    {
      "cell_type": "code",
      "source": [
        "print(news_dataset['Headline'])"
      ],
      "metadata": {
        "colab": {
          "base_uri": "https://localhost:8080/"
        },
        "id": "fhLM5C_8Afu6",
        "outputId": "e782e296-4e31-407c-de97-aaa015241f17"
      },
      "execution_count": 36,
      "outputs": [
        {
          "output_type": "stream",
          "name": "stdout",
          "text": [
            "0              Four ways Bob Corker skewered Donald Trump\n",
            "1       Linklater's war veteran comedy speaks to moder...\n",
            "2       Trump’s Fight With Corker Jeopardizes His Legi...\n",
            "3       Egypt's Cheiron wins tie-up with Pemex for Mex...\n",
            "4             Jason Aldean opens 'SNL' with Vegas tribute\n",
            "                              ...                        \n",
            "4004                                      Trends to Watch\n",
            "4005    Trump Jr. Is Soon To Give A 30-Minute Speech F...\n",
            "4006          Ron Paul on Trump, Anarchism & the AltRight\n",
            "4007    China to accept overseas trial data in bid to ...\n",
            "4008    Vice President Mike Pence Leaves NFL Game Beca...\n",
            "Name: Headline, Length: 4009, dtype: object\n"
          ]
        }
      ]
    },
    {
      "cell_type": "markdown",
      "source": [
        "Stemming:\n",
        "\n",
        "Stemming is the process of reducing a word to its root word."
      ],
      "metadata": {
        "id": "vzHTjTiIB4rJ"
      }
    },
    {
      "cell_type": "code",
      "source": [
        "port_stem = PorterStemmer()"
      ],
      "metadata": {
        "id": "WC812mDcBerH"
      },
      "execution_count": 39,
      "outputs": []
    },
    {
      "cell_type": "code",
      "source": [
        "def stemming(content):\n",
        "    stemmed_content = re.sub('[^a-zA-Z]',' ',content)\n",
        "    stemmed_content = stemmed_content.lower()\n",
        "    stemmed_content = stemmed_content.split()\n",
        "    stemmed_content = [port_stem.stem(word) for word in stemmed_content if not word in stopwords.words('english')]\n",
        "    stemmed_content = ' '.join(stemmed_content)\n",
        "    return stemmed_content"
      ],
      "metadata": {
        "id": "zIu6cXRaCgRh"
      },
      "execution_count": 42,
      "outputs": []
    },
    {
      "cell_type": "code",
      "source": [
        "news_dataset['Headline'] = news_dataset['Headline'].apply(stemming)"
      ],
      "metadata": {
        "id": "D1U36nrLDo8y"
      },
      "execution_count": 43,
      "outputs": []
    },
    {
      "cell_type": "code",
      "source": [
        "news_dataset['Headline']"
      ],
      "metadata": {
        "colab": {
          "base_uri": "https://localhost:8080/",
          "height": 458
        },
        "id": "GrXiT7wMHs0Y",
        "outputId": "46a07473-7619-427d-8842-0ddde8d9c1f0"
      },
      "execution_count": 44,
      "outputs": [
        {
          "output_type": "execute_result",
          "data": {
            "text/plain": [
              "0                 four way bob corker skewer donald trump\n",
              "1       linklat war veteran comedi speak modern americ...\n",
              "2                trump fight corker jeopard legisl agenda\n",
              "3       egypt cheiron win tie pemex mexican onshor oil...\n",
              "4                       jason aldean open snl vega tribut\n",
              "                              ...                        \n",
              "4004                                          trend watch\n",
              "4005                      trump jr soon give minut speech\n",
              "4006                       ron paul trump anarch altright\n",
              "4007    china accept oversea trial data bid speed drug...\n",
              "4008    vice presid mike penc leav nfl game anti ameri...\n",
              "Name: Headline, Length: 4009, dtype: object"
            ],
            "text/html": [
              "<div>\n",
              "<style scoped>\n",
              "    .dataframe tbody tr th:only-of-type {\n",
              "        vertical-align: middle;\n",
              "    }\n",
              "\n",
              "    .dataframe tbody tr th {\n",
              "        vertical-align: top;\n",
              "    }\n",
              "\n",
              "    .dataframe thead th {\n",
              "        text-align: right;\n",
              "    }\n",
              "</style>\n",
              "<table border=\"1\" class=\"dataframe\">\n",
              "  <thead>\n",
              "    <tr style=\"text-align: right;\">\n",
              "      <th></th>\n",
              "      <th>Headline</th>\n",
              "    </tr>\n",
              "  </thead>\n",
              "  <tbody>\n",
              "    <tr>\n",
              "      <th>0</th>\n",
              "      <td>four way bob corker skewer donald trump</td>\n",
              "    </tr>\n",
              "    <tr>\n",
              "      <th>1</th>\n",
              "      <td>linklat war veteran comedi speak modern americ...</td>\n",
              "    </tr>\n",
              "    <tr>\n",
              "      <th>2</th>\n",
              "      <td>trump fight corker jeopard legisl agenda</td>\n",
              "    </tr>\n",
              "    <tr>\n",
              "      <th>3</th>\n",
              "      <td>egypt cheiron win tie pemex mexican onshor oil...</td>\n",
              "    </tr>\n",
              "    <tr>\n",
              "      <th>4</th>\n",
              "      <td>jason aldean open snl vega tribut</td>\n",
              "    </tr>\n",
              "    <tr>\n",
              "      <th>...</th>\n",
              "      <td>...</td>\n",
              "    </tr>\n",
              "    <tr>\n",
              "      <th>4004</th>\n",
              "      <td>trend watch</td>\n",
              "    </tr>\n",
              "    <tr>\n",
              "      <th>4005</th>\n",
              "      <td>trump jr soon give minut speech</td>\n",
              "    </tr>\n",
              "    <tr>\n",
              "      <th>4006</th>\n",
              "      <td>ron paul trump anarch altright</td>\n",
              "    </tr>\n",
              "    <tr>\n",
              "      <th>4007</th>\n",
              "      <td>china accept oversea trial data bid speed drug...</td>\n",
              "    </tr>\n",
              "    <tr>\n",
              "      <th>4008</th>\n",
              "      <td>vice presid mike penc leav nfl game anti ameri...</td>\n",
              "    </tr>\n",
              "  </tbody>\n",
              "</table>\n",
              "<p>4009 rows × 1 columns</p>\n",
              "</div><br><label><b>dtype:</b> object</label>"
            ]
          },
          "metadata": {},
          "execution_count": 44
        }
      ]
    },
    {
      "cell_type": "code",
      "source": [
        "# seperating the data & labels\n",
        "X = news_dataset['Headline'].values\n",
        "Y = news_dataset['Label'].values"
      ],
      "metadata": {
        "id": "y9Sx11CFHw44"
      },
      "execution_count": 53,
      "outputs": []
    },
    {
      "cell_type": "code",
      "source": [
        "print(X)\n",
        "print(Y)"
      ],
      "metadata": {
        "colab": {
          "base_uri": "https://localhost:8080/"
        },
        "id": "9B-pBtO2IVgn",
        "outputId": "93d3a969-6147-4a56-8d5b-a6d04c907bc1"
      },
      "execution_count": 54,
      "outputs": [
        {
          "output_type": "stream",
          "name": "stdout",
          "text": [
            "['four way bob corker skewer donald trump'\n",
            " 'linklat war veteran comedi speak modern america say star'\n",
            " 'trump fight corker jeopard legisl agenda' ...\n",
            " 'ron paul trump anarch altright'\n",
            " 'china accept oversea trial data bid speed drug approv'\n",
            " 'vice presid mike penc leav nfl game anti american protest']\n",
            "[1 1 1 ... 0 1 0]\n"
          ]
        }
      ]
    },
    {
      "cell_type": "code",
      "source": [
        "# converting the textual data to numerical data\n",
        "vectorizer = TfidfVectorizer()\n",
        "vectorizer.fit(X)\n",
        "\n",
        "X = vectorizer.transform(X)"
      ],
      "metadata": {
        "id": "1nIGsyBGIXkR"
      },
      "execution_count": 55,
      "outputs": []
    },
    {
      "cell_type": "code",
      "source": [
        "print(X)"
      ],
      "metadata": {
        "colab": {
          "base_uri": "https://localhost:8080/"
        },
        "id": "lnflhjikJeyv",
        "outputId": "a474b87a-557f-4ede-8e7b-afcdb3cb86a7"
      },
      "execution_count": 58,
      "outputs": [
        {
          "output_type": "stream",
          "name": "stdout",
          "text": [
            "  (0, 5242)\t0.37863563249625337\n",
            "  (0, 4987)\t0.19663377847748262\n",
            "  (0, 4400)\t0.5210398276773331\n",
            "  (0, 1895)\t0.38469689571798976\n",
            "  (0, 1400)\t0.32732150493643364\n",
            "  (0, 1046)\t0.38469689571798976\n",
            "  (0, 531)\t0.37863563249625337\n",
            "  (1, 5222)\t0.2663522983858765\n",
            "  (1, 5157)\t0.35098177557086435\n",
            "  (1, 4553)\t0.29755081676117606\n",
            "  (1, 4495)\t0.3621799099417042\n",
            "  (1, 4198)\t0.21748052230065945\n",
            "  (1, 3107)\t0.3688809885457156\n",
            "  (1, 2803)\t0.4114013985546997\n",
            "  (1, 956)\t0.38576635805583787\n",
            "  (1, 144)\t0.2910665140650854\n",
            "  (2, 4987)\t0.1886343870160031\n",
            "  (2, 2748)\t0.4762862128463209\n",
            "  (2, 2552)\t0.4998430547683992\n",
            "  (2, 1789)\t0.3531024617500656\n",
            "  (2, 1046)\t0.3690467816496352\n",
            "  (2, 72)\t0.4762862128463209\n",
            "  (3, 5306)\t0.2250193597747793\n",
            "  (3, 4859)\t0.33100081042556057\n",
            "  (3, 3530)\t0.3654630937185681\n",
            "  :\t:\n",
            "  (4005, 2030)\t0.3815661475297205\n",
            "  (4006, 4987)\t0.2123495309806764\n",
            "  (4006, 4101)\t0.4908314641056838\n",
            "  (4006, 3514)\t0.42271782854191553\n",
            "  (4006, 156)\t0.5173498757944015\n",
            "  (4006, 132)\t0.5173498757944015\n",
            "  (4007, 4964)\t0.3637221752032361\n",
            "  (4007, 4501)\t0.37255845433710705\n",
            "  (4007, 3445)\t0.3833731859629671\n",
            "  (4007, 1445)\t0.3132477425313323\n",
            "  (4007, 1179)\t0.29859759250152684\n",
            "  (4007, 844)\t0.27555601384838474\n",
            "  (4007, 461)\t0.31047753966327596\n",
            "  (4007, 215)\t0.3161859364025089\n",
            "  (4007, 21)\t0.349779561182738\n",
            "  (4008, 5161)\t0.42098686474704605\n",
            "  (4008, 3775)\t0.29060345113936664\n",
            "  (4008, 3706)\t0.25173641826467774\n",
            "  (4008, 3532)\t0.3497967697530595\n",
            "  (4008, 3270)\t0.2716159066410552\n",
            "  (4008, 3063)\t0.3591594919220568\n",
            "  (4008, 2737)\t0.3062856534556241\n",
            "  (4008, 1970)\t0.2229080919309089\n",
            "  (4008, 188)\t0.331910246264668\n",
            "  (4008, 145)\t0.31009130521718303\n"
          ]
        }
      ]
    },
    {
      "cell_type": "markdown",
      "source": [
        "Splitting the dataset into training and testing data"
      ],
      "metadata": {
        "id": "UpPEBIq1KFMu"
      }
    },
    {
      "cell_type": "code",
      "source": [
        "X_train, X_test, Y_train, Y_test = train_test_split(X, Y, test_size = 0.2, stratify=Y, random_state=2)"
      ],
      "metadata": {
        "id": "tsLiiOPSJ0C_"
      },
      "execution_count": 59,
      "outputs": []
    },
    {
      "cell_type": "markdown",
      "source": [
        "Train the model - Logistic Regression"
      ],
      "metadata": {
        "id": "oM8vnUaSLiI-"
      }
    },
    {
      "cell_type": "code",
      "source": [
        "model = LogisticRegression()"
      ],
      "metadata": {
        "id": "kONRCjEHKOPa"
      },
      "execution_count": 60,
      "outputs": []
    },
    {
      "cell_type": "code",
      "source": [
        "model.fit(X_train, Y_train)"
      ],
      "metadata": {
        "colab": {
          "base_uri": "https://localhost:8080/",
          "height": 75
        },
        "id": "rwpnBIcILnAe",
        "outputId": "a9b00ea7-d4fc-43a4-afd3-f8db4cd99ba9"
      },
      "execution_count": 61,
      "outputs": [
        {
          "output_type": "execute_result",
          "data": {
            "text/plain": [
              "LogisticRegression()"
            ],
            "text/html": [
              "<style>#sk-container-id-1 {color: black;}#sk-container-id-1 pre{padding: 0;}#sk-container-id-1 div.sk-toggleable {background-color: white;}#sk-container-id-1 label.sk-toggleable__label {cursor: pointer;display: block;width: 100%;margin-bottom: 0;padding: 0.3em;box-sizing: border-box;text-align: center;}#sk-container-id-1 label.sk-toggleable__label-arrow:before {content: \"▸\";float: left;margin-right: 0.25em;color: #696969;}#sk-container-id-1 label.sk-toggleable__label-arrow:hover:before {color: black;}#sk-container-id-1 div.sk-estimator:hover label.sk-toggleable__label-arrow:before {color: black;}#sk-container-id-1 div.sk-toggleable__content {max-height: 0;max-width: 0;overflow: hidden;text-align: left;background-color: #f0f8ff;}#sk-container-id-1 div.sk-toggleable__content pre {margin: 0.2em;color: black;border-radius: 0.25em;background-color: #f0f8ff;}#sk-container-id-1 input.sk-toggleable__control:checked~div.sk-toggleable__content {max-height: 200px;max-width: 100%;overflow: auto;}#sk-container-id-1 input.sk-toggleable__control:checked~label.sk-toggleable__label-arrow:before {content: \"▾\";}#sk-container-id-1 div.sk-estimator input.sk-toggleable__control:checked~label.sk-toggleable__label {background-color: #d4ebff;}#sk-container-id-1 div.sk-label input.sk-toggleable__control:checked~label.sk-toggleable__label {background-color: #d4ebff;}#sk-container-id-1 input.sk-hidden--visually {border: 0;clip: rect(1px 1px 1px 1px);clip: rect(1px, 1px, 1px, 1px);height: 1px;margin: -1px;overflow: hidden;padding: 0;position: absolute;width: 1px;}#sk-container-id-1 div.sk-estimator {font-family: monospace;background-color: #f0f8ff;border: 1px dotted black;border-radius: 0.25em;box-sizing: border-box;margin-bottom: 0.5em;}#sk-container-id-1 div.sk-estimator:hover {background-color: #d4ebff;}#sk-container-id-1 div.sk-parallel-item::after {content: \"\";width: 100%;border-bottom: 1px solid gray;flex-grow: 1;}#sk-container-id-1 div.sk-label:hover label.sk-toggleable__label {background-color: #d4ebff;}#sk-container-id-1 div.sk-serial::before {content: \"\";position: absolute;border-left: 1px solid gray;box-sizing: border-box;top: 0;bottom: 0;left: 50%;z-index: 0;}#sk-container-id-1 div.sk-serial {display: flex;flex-direction: column;align-items: center;background-color: white;padding-right: 0.2em;padding-left: 0.2em;position: relative;}#sk-container-id-1 div.sk-item {position: relative;z-index: 1;}#sk-container-id-1 div.sk-parallel {display: flex;align-items: stretch;justify-content: center;background-color: white;position: relative;}#sk-container-id-1 div.sk-item::before, #sk-container-id-1 div.sk-parallel-item::before {content: \"\";position: absolute;border-left: 1px solid gray;box-sizing: border-box;top: 0;bottom: 0;left: 50%;z-index: -1;}#sk-container-id-1 div.sk-parallel-item {display: flex;flex-direction: column;z-index: 1;position: relative;background-color: white;}#sk-container-id-1 div.sk-parallel-item:first-child::after {align-self: flex-end;width: 50%;}#sk-container-id-1 div.sk-parallel-item:last-child::after {align-self: flex-start;width: 50%;}#sk-container-id-1 div.sk-parallel-item:only-child::after {width: 0;}#sk-container-id-1 div.sk-dashed-wrapped {border: 1px dashed gray;margin: 0 0.4em 0.5em 0.4em;box-sizing: border-box;padding-bottom: 0.4em;background-color: white;}#sk-container-id-1 div.sk-label label {font-family: monospace;font-weight: bold;display: inline-block;line-height: 1.2em;}#sk-container-id-1 div.sk-label-container {text-align: center;}#sk-container-id-1 div.sk-container {/* jupyter's `normalize.less` sets `[hidden] { display: none; }` but bootstrap.min.css set `[hidden] { display: none !important; }` so we also need the `!important` here to be able to override the default hidden behavior on the sphinx rendered scikit-learn.org. See: https://github.com/scikit-learn/scikit-learn/issues/21755 */display: inline-block !important;position: relative;}#sk-container-id-1 div.sk-text-repr-fallback {display: none;}</style><div id=\"sk-container-id-1\" class=\"sk-top-container\"><div class=\"sk-text-repr-fallback\"><pre>LogisticRegression()</pre><b>In a Jupyter environment, please rerun this cell to show the HTML representation or trust the notebook. <br />On GitHub, the HTML representation is unable to render, please try loading this page with nbviewer.org.</b></div><div class=\"sk-container\" hidden><div class=\"sk-item\"><div class=\"sk-estimator sk-toggleable\"><input class=\"sk-toggleable__control sk-hidden--visually\" id=\"sk-estimator-id-1\" type=\"checkbox\" checked><label for=\"sk-estimator-id-1\" class=\"sk-toggleable__label sk-toggleable__label-arrow\">LogisticRegression</label><div class=\"sk-toggleable__content\"><pre>LogisticRegression()</pre></div></div></div></div></div>"
            ]
          },
          "metadata": {},
          "execution_count": 61
        }
      ]
    },
    {
      "cell_type": "markdown",
      "source": [
        "Evaluation: Accuracy Score"
      ],
      "metadata": {
        "id": "A49jIM3ULuqX"
      }
    },
    {
      "cell_type": "code",
      "source": [
        "#Accuracy score on the training data\n",
        "X_train_prediction = model.predict(X_train)\n",
        "training_data_accuracy = accuracy_score(X_train_prediction, Y_train)\n",
        "print('Accuracy score of the training data : ', training_data_accuracy)"
      ],
      "metadata": {
        "colab": {
          "base_uri": "https://localhost:8080/"
        },
        "id": "JOG8RFpxLrMx",
        "outputId": "2374e4a8-ce05-4447-dab6-ad9689ce0b93"
      },
      "execution_count": 63,
      "outputs": [
        {
          "output_type": "stream",
          "name": "stdout",
          "text": [
            "Accuracy score of the training data :  0.95385095104459\n"
          ]
        }
      ]
    },
    {
      "cell_type": "code",
      "source": [
        "#Accuracy score on the testing data\n",
        "X_test_prediction = model.predict(X_test)\n",
        "test_data_accuracy = accuracy_score(X_test_prediction, Y_test)\n",
        "print('Accuracy score of the test data : ', test_data_accuracy)"
      ],
      "metadata": {
        "colab": {
          "base_uri": "https://localhost:8080/"
        },
        "id": "39L_5DQmL7e4",
        "outputId": "7fa4defd-780d-4aef-b3fc-526891f8d4bd"
      },
      "execution_count": 65,
      "outputs": [
        {
          "output_type": "stream",
          "name": "stdout",
          "text": [
            "Accuracy score of the test data :  0.85785536159601\n"
          ]
        }
      ]
    },
    {
      "cell_type": "markdown",
      "source": [
        "Make a predictive system"
      ],
      "metadata": {
        "id": "7LEPhxkpMt5-"
      }
    },
    {
      "cell_type": "code",
      "source": [
        "X_new = X_test[0]\n",
        "prediction = model.predict(X_new)\n",
        "print(prediction)\n",
        "\n",
        "if (prediction[0]==0):\n",
        "  print('The news is Real')\n",
        "else:\n",
        "  print('The news is Fake')"
      ],
      "metadata": {
        "colab": {
          "base_uri": "https://localhost:8080/"
        },
        "id": "Qz5ZMfB-MF4E",
        "outputId": "3aab1ada-b69b-46a2-b1a4-165bae806ea6"
      },
      "execution_count": 67,
      "outputs": [
        {
          "output_type": "stream",
          "name": "stdout",
          "text": [
            "[0]\n",
            "The news is Real\n"
          ]
        }
      ]
    },
    {
      "cell_type": "code",
      "source": [],
      "metadata": {
        "id": "VcyCNdVGM22g"
      },
      "execution_count": null,
      "outputs": []
    }
  ]
}